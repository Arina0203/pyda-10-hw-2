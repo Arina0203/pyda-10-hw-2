{
 "cells": [
  {
   "cell_type": "markdown",
   "metadata": {},
   "source": [
    "**Задание 1**. Даны 2 строки: *long_phrase* и *short_phrase*. \n",
    "Напишите код, который проверяет действительно ли длинная фраза *long_phrase* длиннее короткой *short_phrase*. И выводит *True* или *False* в зависимости от результата сравнения."
   ]
  },
  {
   "cell_type": "code",
   "execution_count": null,
   "metadata": {},
   "outputs": [],
   "source": [
    "long_phrase = 'Насколько проще было бы писать программы, если бы не заказчики'\n",
    "short_phrase = '640Кб должно хватить для любых задач. Билл Гейтс (по легенде)'()"
   ]
  },
  {
   "cell_type": "code",
   "execution_count": 3,
   "metadata": {},
   "outputs": [
    {
     "data": {
      "text/plain": [
       "True"
      ]
     },
     "execution_count": 3,
     "metadata": {},
     "output_type": "execute_result"
    }
   ],
   "source": [
    "('Насколько проще было бы писать программы, если бы не заказчики') > ('640Кб должно хватить для любых задач. Билл Гейтс (по легенде)')"
   ]
  },
  {
   "cell_type": "markdown",
   "metadata": {},
   "source": [
    "**Задание 2**. Дано значение объема файла в байтах (*в мегабайте 2^20 байт*). Напишите перевод этого значения в мегабайты в формате: \"*Объем файла равен 213.68Mb*\"."
   ]
  },
  {
   "cell_type": "code",
   "execution_count": 20,
   "metadata": {},
   "outputs": [
    {
     "name": "stdout",
     "output_type": "stream",
     "text": [
      "Введите число223346688\n",
      "Ответ:  213.0\n"
     ]
    }
   ],
   "source": [
    "a = int(input('Введите число'))\n",
    "b = 1024\n",
    "c = (a / b / b)\n",
    "print('Ответ: ', c)"
   ]
  },
  {
   "cell_type": "markdown",
   "metadata": {},
   "source": [
    "**Задание 3**. Разработать приложение для определения знака зодиака по дате рождения. Пример:\n",
    "\n",
    "Введите месяц: март\n",
    "\n",
    "Введите число: 6\n",
    "\n",
    "Вывод:\n",
    "Рыбы"
   ]
  },
  {
   "cell_type": "code",
   "execution_count": 44,
   "metadata": {},
   "outputs": [
    {
     "name": "stdout",
     "output_type": "stream",
     "text": [
      "Введите месяцянварь\n",
      "Введите число60\n",
      "Ошибка\n"
     ]
    }
   ],
   "source": [
    "mounth = input('Введите месяц')\n",
    "date = int(input('Введите число'))\n",
    "if mounth == ('январь') and (date >= 21) and (date <= 31) or mounth == ('февраль') and (date >= 1) and (date <= 19):\n",
    "    print ('водолей')\n",
    "elif mounth == ('февраль') and (date >= 20) and (date <= 29) or mounth == ('март') and (date >= 1) and (date <= 20):\n",
    "    print ('рыбы')\n",
    "elif mounth == ('март') and (date >= 21) and (date <= 31) or mounth == ('апрель') and (date >= 1) and (date <= 20):\n",
    "    print ('овен')\n",
    "elif mounth == ('апрель') and (date >= 21) and (date <= 30) or mounth == ('май') and (date >= 1) and (date <= 21):\n",
    "    print ('телец')\n",
    "elif mounth == ('май') and (date >= 22) and (date <= 31) or mounth == ('июнь') and (date >= 1) and (date <= 21):\n",
    "    print ('близнецы')\n",
    "elif mounth == ('июнь') and (date >= 22) and (date <= 30) or mounth == ('июль') and (date >= 1) and (date <= 22):\n",
    "    print ('рак')\n",
    "elif mounth == ('июль') and (date >= 23) and (date <= 31) or mounth == ('август') and (date >= 1) and (date <= 21):\n",
    "    print ('лев')\n",
    "elif mounth == ('август') and (date >= 22) and (date <= 31) or mounth == ('сентябрь') and (date >= 1) and (date <= 23):\n",
    "    print ('девы')\n",
    "elif mounth == ('сентябрь') and (date >= 24) and (date <= 30) or mounth == ('октябрь') and (date >= 1) and (date <= 23):\n",
    "    print ('весы')\n",
    "elif mounth == ('октябрь') and (date >= 24) and (date <= 31) or mounth == ('ноябрь') and (date >= 1) and (date <= 22):\n",
    "    print ('скорпион')\n",
    "elif mounth == ('ноябрь') and (date >= 23) and (date <= 30) or mounth == ('декабрь') and (date >= 1) and (date <= 23):\n",
    "    print ('стрелец')\n",
    "elif mounth == ('декабрь') and (date >= 24) and (date <= 31) or mounth == ('январь') and (date >= 1) and (date <= 20):\n",
    "    print ('козерог')\n",
    "else:\n",
    "    print('Ошибка')"
   ]
  },
  {
   "cell_type": "markdown",
   "metadata": {},
   "source": [
    "**Задание 4**. Нужно разработать приложение для финансового планирования.\n",
    "Приложение учитывает сколько уходит на ипотеку, \"на жизнь\" и сколько нужно отложить на пенсию.\n",
    "Пользователь вводит:\n",
    "- заработанную плату в месяц.\n",
    "- сколько процентов от ЗП уходит на ипотеку.\n",
    "- сколько процентов от ЗП уходит \"на жизнь\".\n",
    "- сколько раз приходит премия в год.\n",
    "\n",
    "Остальная часть заработанной платы откладывается на пенсию.\n",
    "\n",
    "Также пользователю приходит премия в размере зарплаты, от которой половина уходит на отпуск, а вторая половина откладывается.\n",
    "\n",
    "Программа должна учитывать сколько премий было в год.\n",
    "\n",
    "Нужно вывести сколько денег тратит пользователь на ипотеку и сколько он накопит за год.\n",
    "\n",
    "Пример:\n",
    "\n",
    "Введите заработанную плату в месяц: 100000\n",
    "\n",
    "Введите сколько процентов уходит на ипотеку: 30\n",
    "\n",
    "Введите сколько процентов уходит на жизнь: 50\n",
    "\n",
    "Введите количество премий за год: 2\n",
    "\n",
    "Вывод:\n",
    "На ипотеку было потрачено: 360000 рублей\n",
    "Было накоплено: 340000 рублей"
   ]
  },
  {
   "cell_type": "code",
   "execution_count": 68,
   "metadata": {},
   "outputs": [
    {
     "name": "stdout",
     "output_type": "stream",
     "text": [
      "Введите заработанную плату в месяц120000\n",
      "Введите сколько процентов уходит на ипотеку25\n",
      "Введите сколько процентов уходит на жизнь25\n",
      "Введите количество премий за год3\n",
      "На ипотеку было потрачено: 360000.0\n",
      "Было накоплено:  900000.0\n"
     ]
    }
   ],
   "source": [
    "salary = int(input('Введите заработанную плату в месяц'))\n",
    "mortgage = int(input('Введите сколько процентов уходит на ипотеку'))\n",
    "life = int(input('Введите сколько процентов уходит на жизнь'))\n",
    "bonus = int(input('Введите количество премий за год'))\n",
    "bonus = (salary * bonus)\n",
    "a = (salary * mortgage) / 100 * 12\n",
    "print('На ипотеку было потрачено:', a )\n",
    "b = (((salary * 12) - ((salary * life) / 100) * 12) + ((bonus * 50 / 100))) - a \n",
    "print('Было накоплено: ', b )"
   ]
  },
  {
   "cell_type": "code",
   "execution_count": null,
   "metadata": {},
   "outputs": [],
   "source": []
  },
  {
   "cell_type": "code",
   "execution_count": null,
   "metadata": {},
   "outputs": [],
   "source": []
  }
 ],
 "metadata": {
  "kernelspec": {
   "display_name": "Python 3",
   "language": "python",
   "name": "python3"
  },
  "language_info": {
   "codemirror_mode": {
    "name": "ipython",
    "version": 3
   },
   "file_extension": ".py",
   "mimetype": "text/x-python",
   "name": "python",
   "nbconvert_exporter": "python",
   "pygments_lexer": "ipython3",
   "version": "3.7.6"
  }
 },
 "nbformat": 4,
 "nbformat_minor": 2
}
